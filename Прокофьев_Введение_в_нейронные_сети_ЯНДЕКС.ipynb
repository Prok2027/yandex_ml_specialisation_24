{
  "nbformat": 4,
  "nbformat_minor": 0,
  "metadata": {
    "colab": {
      "provenance": []
    },
    "kernelspec": {
      "name": "python3",
      "display_name": "Python 3"
    },
    "language_info": {
      "name": "python"
    }
  },
  "cells": [
    {
      "cell_type": "code",
      "execution_count": null,
      "metadata": {
        "id": "KGrVj558GN-b"
      },
      "outputs": [],
      "source": [
        "import torch\n",
        "import numpy as np\n",
        "import matplotlib.pyplot as plt\n",
        "from torch.utils.data import DataLoader\n",
        "from torchvision import datasets\n",
        "import torchvision.transforms as trans\n",
        "from torch import nn\n",
        "from torch import optim\n",
        "from IPython.display import clear_output"
      ]
    },
    {
      "cell_type": "code",
      "source": [
        "mnist = datasets.MNIST(root='mnist', download=True)"
      ],
      "metadata": {
        "id": "ul7JSsTk44pm",
        "colab": {
          "base_uri": "https://localhost:8080/"
        },
        "outputId": "5eba132e-fc6a-4ff9-a668-8c87fa40948e"
      },
      "execution_count": null,
      "outputs": [
        {
          "output_type": "stream",
          "name": "stdout",
          "text": [
            "Downloading http://yann.lecun.com/exdb/mnist/train-images-idx3-ubyte.gz\n",
            "Failed to download (trying next):\n",
            "HTTP Error 403: Forbidden\n",
            "\n",
            "Downloading https://ossci-datasets.s3.amazonaws.com/mnist/train-images-idx3-ubyte.gz\n",
            "Downloading https://ossci-datasets.s3.amazonaws.com/mnist/train-images-idx3-ubyte.gz to mnist/MNIST/raw/train-images-idx3-ubyte.gz\n"
          ]
        },
        {
          "output_type": "stream",
          "name": "stderr",
          "text": [
            "100%|██████████| 9.91M/9.91M [00:00<00:00, 15.7MB/s]\n"
          ]
        },
        {
          "output_type": "stream",
          "name": "stdout",
          "text": [
            "Extracting mnist/MNIST/raw/train-images-idx3-ubyte.gz to mnist/MNIST/raw\n",
            "\n",
            "Downloading http://yann.lecun.com/exdb/mnist/train-labels-idx1-ubyte.gz\n",
            "Failed to download (trying next):\n",
            "HTTP Error 403: Forbidden\n",
            "\n",
            "Downloading https://ossci-datasets.s3.amazonaws.com/mnist/train-labels-idx1-ubyte.gz\n",
            "Downloading https://ossci-datasets.s3.amazonaws.com/mnist/train-labels-idx1-ubyte.gz to mnist/MNIST/raw/train-labels-idx1-ubyte.gz\n"
          ]
        },
        {
          "output_type": "stream",
          "name": "stderr",
          "text": [
            "100%|██████████| 28.9k/28.9k [00:00<00:00, 478kB/s]\n"
          ]
        },
        {
          "output_type": "stream",
          "name": "stdout",
          "text": [
            "Extracting mnist/MNIST/raw/train-labels-idx1-ubyte.gz to mnist/MNIST/raw\n",
            "\n",
            "Downloading http://yann.lecun.com/exdb/mnist/t10k-images-idx3-ubyte.gz\n",
            "Failed to download (trying next):\n",
            "HTTP Error 403: Forbidden\n",
            "\n",
            "Downloading https://ossci-datasets.s3.amazonaws.com/mnist/t10k-images-idx3-ubyte.gz\n",
            "Downloading https://ossci-datasets.s3.amazonaws.com/mnist/t10k-images-idx3-ubyte.gz to mnist/MNIST/raw/t10k-images-idx3-ubyte.gz\n"
          ]
        },
        {
          "output_type": "stream",
          "name": "stderr",
          "text": [
            "100%|██████████| 1.65M/1.65M [00:00<00:00, 4.39MB/s]\n"
          ]
        },
        {
          "output_type": "stream",
          "name": "stdout",
          "text": [
            "Extracting mnist/MNIST/raw/t10k-images-idx3-ubyte.gz to mnist/MNIST/raw\n",
            "\n",
            "Downloading http://yann.lecun.com/exdb/mnist/t10k-labels-idx1-ubyte.gz\n",
            "Failed to download (trying next):\n",
            "HTTP Error 403: Forbidden\n",
            "\n",
            "Downloading https://ossci-datasets.s3.amazonaws.com/mnist/t10k-labels-idx1-ubyte.gz\n",
            "Downloading https://ossci-datasets.s3.amazonaws.com/mnist/t10k-labels-idx1-ubyte.gz to mnist/MNIST/raw/t10k-labels-idx1-ubyte.gz\n"
          ]
        },
        {
          "output_type": "stream",
          "name": "stderr",
          "text": [
            "100%|██████████| 4.54k/4.54k [00:00<00:00, 3.34MB/s]"
          ]
        },
        {
          "output_type": "stream",
          "name": "stdout",
          "text": [
            "Extracting mnist/MNIST/raw/t10k-labels-idx1-ubyte.gz to mnist/MNIST/raw\n",
            "\n"
          ]
        },
        {
          "output_type": "stream",
          "name": "stderr",
          "text": [
            "\n"
          ]
        }
      ]
    },
    {
      "cell_type": "code",
      "source": [
        "train = datasets.MNIST(root='mnist', train=True, transform=trans.ToTensor())\n",
        "test = datasets.MNIST(root='mnist', train=False, transform=trans.ToTensor())\n",
        "train"
      ],
      "metadata": {
        "colab": {
          "base_uri": "https://localhost:8080/"
        },
        "id": "EJWPf6d1GnuX",
        "outputId": "55600eb8-9a40-4efe-83b6-0c80c394d6b5"
      },
      "execution_count": null,
      "outputs": [
        {
          "output_type": "execute_result",
          "data": {
            "text/plain": [
              "Dataset MNIST\n",
              "    Number of datapoints: 60000\n",
              "    Root location: mnist\n",
              "    Split: Train\n",
              "    StandardTransform\n",
              "Transform: ToTensor()"
            ]
          },
          "metadata": {},
          "execution_count": 3
        }
      ]
    },
    {
      "cell_type": "code",
      "source": [
        "test"
      ],
      "metadata": {
        "colab": {
          "base_uri": "https://localhost:8080/"
        },
        "id": "vaxm5ksOK9n4",
        "outputId": "703ee2cc-7cf3-42f3-e4d0-19bf79e163d7"
      },
      "execution_count": null,
      "outputs": [
        {
          "output_type": "execute_result",
          "data": {
            "text/plain": [
              "Dataset MNIST\n",
              "    Number of datapoints: 10000\n",
              "    Root location: mnist\n",
              "    Split: Test\n",
              "    StandardTransform\n",
              "Transform: ToTensor()"
            ]
          },
          "metadata": {},
          "execution_count": 4
        }
      ]
    },
    {
      "cell_type": "code",
      "source": [
        "model_try = nn.Sequential(\n",
        "    nn.Flatten(start_dim=1),\n",
        "    nn.Linear(in_features=28*28, out_features=784),\n",
        "    nn.ReLU(),\n",
        "    nn.Linear(in_features=784, out_features=784),\n",
        "    nn.ReLU(),\n",
        "    nn.Sigmoid(),\n",
        "    nn.Linear(in_features=784, out_features=10),\n",
        ")"
      ],
      "metadata": {
        "id": "fvnJcihlLChq"
      },
      "execution_count": null,
      "outputs": []
    },
    {
      "cell_type": "code",
      "source": [
        "train[0][1]"
      ],
      "metadata": {
        "colab": {
          "base_uri": "https://localhost:8080/"
        },
        "id": "cDV3hlNn5Jvl",
        "outputId": "2bd6800a-1b63-4e02-b376-8acb68449ba8"
      },
      "execution_count": null,
      "outputs": [
        {
          "output_type": "execute_result",
          "data": {
            "text/plain": [
              "5"
            ]
          },
          "metadata": {},
          "execution_count": 5
        }
      ]
    },
    {
      "cell_type": "code",
      "source": [
        "train_y = list()\n",
        "for i in range(len(train)):\n",
        "  train_y.append(train[i][1])"
      ],
      "metadata": {
        "id": "MCO36DvY59uY"
      },
      "execution_count": null,
      "outputs": []
    },
    {
      "cell_type": "code",
      "source": [
        "train_x = list()\n",
        "for i in range(len(train)):\n",
        "  train_x.append(train[i][0])"
      ],
      "metadata": {
        "id": "-9FRytbW6swl"
      },
      "execution_count": null,
      "outputs": []
    },
    {
      "cell_type": "code",
      "source": [
        "test_x = list()\n",
        "for i in range(len(test)):\n",
        "  test_x.append(test[i][0])"
      ],
      "metadata": {
        "id": "abzD2ssN7d0m"
      },
      "execution_count": null,
      "outputs": []
    },
    {
      "cell_type": "code",
      "source": [
        "test_y = list()\n",
        "for i in range(len(test)):\n",
        "  test_y.append(test[i][1])"
      ],
      "metadata": {
        "id": "oB6v6MUy80o7"
      },
      "execution_count": null,
      "outputs": []
    },
    {
      "cell_type": "code",
      "source": [
        "from torchsummary import summary"
      ],
      "metadata": {
        "id": "ux-Juba-9BpV"
      },
      "execution_count": null,
      "outputs": []
    },
    {
      "cell_type": "code",
      "source": [
        "summary(model_try, (1, 1, 28*28))"
      ],
      "metadata": {
        "colab": {
          "base_uri": "https://localhost:8080/"
        },
        "id": "0ZcVZxZrD--y",
        "outputId": "ca134405-bedf-4b1c-e78f-913a158ad0e7"
      },
      "execution_count": null,
      "outputs": [
        {
          "output_type": "stream",
          "name": "stdout",
          "text": [
            "----------------------------------------------------------------\n",
            "        Layer (type)               Output Shape         Param #\n",
            "================================================================\n",
            "           Flatten-1                  [-1, 784]               0\n",
            "            Linear-2                  [-1, 784]         615,440\n",
            "              ReLU-3                  [-1, 784]               0\n",
            "            Linear-4                  [-1, 784]         615,440\n",
            "              ReLU-5                  [-1, 784]               0\n",
            "           Sigmoid-6                  [-1, 784]               0\n",
            "            Linear-7                   [-1, 10]           7,850\n",
            "================================================================\n",
            "Total params: 1,238,730\n",
            "Trainable params: 1,238,730\n",
            "Non-trainable params: 0\n",
            "----------------------------------------------------------------\n",
            "Input size (MB): 0.00\n",
            "Forward/backward pass size (MB): 0.04\n",
            "Params size (MB): 4.73\n",
            "Estimated Total Size (MB): 4.76\n",
            "----------------------------------------------------------------\n"
          ]
        }
      ]
    },
    {
      "cell_type": "code",
      "source": [
        "train_x[0].size()"
      ],
      "metadata": {
        "colab": {
          "base_uri": "https://localhost:8080/"
        },
        "id": "X_cJveQjELwI",
        "outputId": "df143e5a-015c-4aac-9219-023e8a9a2a17"
      },
      "execution_count": null,
      "outputs": [
        {
          "output_type": "execute_result",
          "data": {
            "text/plain": [
              "torch.Size([1, 28, 28])"
            ]
          },
          "metadata": {},
          "execution_count": 13
        }
      ]
    },
    {
      "cell_type": "code",
      "source": [
        "with torch.no_grad():\n",
        "    x, y = train_x[0], train_y[0]\n",
        "    pred__ = model_try(x)\n",
        "    print(pred__)\n",
        "    pred__ = torch.argmax(pred__, dim=1) + 1\n",
        "    #print(f'x = {x}')\n",
        "    print(f'y_true = {y}')\n",
        "    print(f'y_pred = {pred__.item()}')"
      ],
      "metadata": {
        "colab": {
          "base_uri": "https://localhost:8080/"
        },
        "id": "eak2pAhMEf1m",
        "outputId": "2cc2a18f-c5db-490b-f04d-2ee6a2646c15"
      },
      "execution_count": null,
      "outputs": [
        {
          "output_type": "stream",
          "name": "stdout",
          "text": [
            "tensor([[ 0.0047, -0.1340,  0.2077, -0.1710,  0.0208, -0.3372,  0.4738, -0.1092,\n",
            "          0.0155,  0.5719]])\n",
            "y_true = 5\n",
            "y_pred = 10\n"
          ]
        }
      ]
    },
    {
      "cell_type": "code",
      "source": [
        "len(train_x[0])"
      ],
      "metadata": {
        "colab": {
          "base_uri": "https://localhost:8080/"
        },
        "id": "Dm5-pSDcHabr",
        "outputId": "b3a342fa-093d-4601-fca6-5a2299622ff2"
      },
      "execution_count": null,
      "outputs": [
        {
          "output_type": "execute_result",
          "data": {
            "text/plain": [
              "1"
            ]
          },
          "metadata": {},
          "execution_count": 15
        }
      ]
    },
    {
      "cell_type": "code",
      "source": [
        "loss = nn.CrossEntropyLoss()"
      ],
      "metadata": {
        "id": "hGJIXkeNJb18"
      },
      "execution_count": null,
      "outputs": []
    },
    {
      "cell_type": "code",
      "source": [
        "optimizer = optim.SGD(model_try.parameters(), lr=1e-1)"
      ],
      "metadata": {
        "id": "_bTCtL3ZLLKZ"
      },
      "execution_count": null,
      "outputs": []
    },
    {
      "cell_type": "code",
      "source": [
        "def run(model, dataloader, loss_function, optimizer=None):\n",
        "    # set the model to evaluation or training mode\n",
        "    if optimizer == None:\n",
        "        model.eval()\n",
        "    else:\n",
        "        model.train()\n",
        "\n",
        "    total_loss = 0\n",
        "\n",
        "    for X, y in dataloader:\n",
        "        # compute prediction\n",
        "        pred = model(X)\n",
        "        # compute loss\n",
        "        loss = loss_function(pred, y)\n",
        "        # save loss\n",
        "        total_loss += loss.item()\n",
        "        if optimizer != None:\n",
        "            # compute gradients\n",
        "            loss.backward()\n",
        "            # do optimizer step\n",
        "            optimizer.step()\n",
        "            # clear gradients\n",
        "            optimizer.zero_grad()\n",
        "\n",
        "    return total_loss / len(dataloader)"
      ],
      "metadata": {
        "id": "gNJtRUr_Lg8x"
      },
      "execution_count": null,
      "outputs": []
    },
    {
      "cell_type": "code",
      "source": [
        "from IPython.display import clear_output\n",
        "\n",
        "def show_losses(train_loss_hist, test_loss_hist):\n",
        "    clear_output()\n",
        "\n",
        "    plt.figure(figsize=(12,4))\n",
        "\n",
        "    plt.subplot(1, 2, 1)\n",
        "    plt.title('Train Loss')\n",
        "    plt.plot(np.arange(len(train_loss_hist)), train_loss_hist)\n",
        "    plt.yscale('log')\n",
        "    plt.grid()\n",
        "\n",
        "    plt.subplot(1, 2, 2)\n",
        "    plt.title('Test Loss')\n",
        "    plt.plot(np.arange(len(test_loss_hist)), test_loss_hist)\n",
        "    plt.yscale('log')\n",
        "    plt.grid()\n",
        "\n",
        "    plt.show()"
      ],
      "metadata": {
        "id": "EOvukBVpLwp1"
      },
      "execution_count": null,
      "outputs": []
    },
    {
      "cell_type": "code",
      "source": [
        "BATCH_SIZE = 10\n",
        "NUM_EPOCHS = 15\n",
        "\n",
        "# your code here\n",
        "train_loader = DataLoader(train, batch_size=BATCH_SIZE)\n",
        "test_loader = DataLoader(test, batch_size=BATCH_SIZE)\n",
        "\n",
        "train_loss_hist = []\n",
        "test_loss_hist = []\n",
        "prev_loss = 10 ** 9\n",
        "\n",
        "for i in range(NUM_EPOCHS):\n",
        "    train_loss = run(model_try, train_loader, loss, optimizer)\n",
        "    train_loss_hist.append(train_loss)\n",
        "    test_loss = run(model_try, test_loader, loss)\n",
        "    test_loss_hist.append(test_loss)\n",
        "    if i % 1 == 0:\n",
        "        show_losses(train_loss_hist, test_loss_hist)\n",
        "    if prev_loss < test_loss:\n",
        "      print(\"Best Epochs: \", i - 1)\n",
        "      break\n",
        "    else:\n",
        "      prev_loss = test_loss"
      ],
      "metadata": {
        "colab": {
          "base_uri": "https://localhost:8080/",
          "height": 408
        },
        "id": "3b9yjb5BL3QL",
        "outputId": "78cd9cce-0dae-45dd-e417-9e4ff8452994"
      },
      "execution_count": null,
      "outputs": [
        {
          "output_type": "display_data",
          "data": {
            "text/plain": [
              "<Figure size 1200x400 with 2 Axes>"
            ],
            "image/png": "[encoded data removed]"
          },
          "metadata": {}
        },
        {
          "output_type": "stream",
          "name": "stdout",
          "text": [
            "Best Epochs:  4\n"
          ]
        }
      ]
    },
    {
      "cell_type": "markdown",
      "source": [
        "Как можно заметить наилучшее значение эпох это 4. Обучим аналогичную модель представленной выше на 6-ти эпохах, и посмотрим на ее ключевые метрики, а затем попробуем сделать изменения архитектуры."
      ],
      "metadata": {
        "id": "zWw16W8ljXiI"
      }
    },
    {
      "cell_type": "code",
      "source": [
        "model_bases = nn.Sequential(\n",
        "    nn.Flatten(start_dim=1),\n",
        "    nn.Linear(in_features=28*28, out_features=784),\n",
        "    nn.ReLU(),\n",
        "    nn.Linear(in_features=784, out_features=784),\n",
        "    nn.ReLU(),\n",
        "    nn.Sigmoid(),\n",
        "    nn.Linear(in_features=784, out_features=10),\n",
        ")"
      ],
      "metadata": {
        "id": "1WzIypEQl-v4"
      },
      "execution_count": null,
      "outputs": []
    },
    {
      "cell_type": "code",
      "source": [
        "optimizer = optim.SGD(model_bases.parameters(), lr=1e-1)"
      ],
      "metadata": {
        "id": "U94botVCDDld"
      },
      "execution_count": null,
      "outputs": []
    },
    {
      "cell_type": "code",
      "source": [
        "Batch = 10\n",
        "Epochs = 4\n",
        "\n",
        "train_loader = DataLoader(train, batch_size=Batch)\n",
        "test_loader = DataLoader(test, batch_size=Batch)\n",
        "\n",
        "train_loss_hist = []\n",
        "test_loss_hist = []\n",
        "\n",
        "for i in range(Epochs):\n",
        "  train_loss = run(model_bases, train_loader, loss, optimizer)\n",
        "  train_loss_hist.append(train_loss)\n",
        "  test_loss = run(model_bases, test_loader, loss)\n",
        "  test_loss_hist.append(test_loss)\n",
        "  show_losses(train_loss_hist, test_loss_hist)"
      ],
      "metadata": {
        "colab": {
          "base_uri": "https://localhost:8080/",
          "height": 391
        },
        "id": "a-yio1VDmbkq",
        "outputId": "905218ef-5222-4231-869f-9346bcde1348"
      },
      "execution_count": null,
      "outputs": [
        {
          "output_type": "display_data",
          "data": {
            "text/plain": [
              "<Figure size 1200x400 with 2 Axes>"
            ],
            "image/png": "[encoded data removed]"
          },
          "metadata": {}
        }
      ]
    },
    {
      "cell_type": "code",
      "source": [
        "test_loss = run(model_try, test_loader, loss)"
      ],
      "metadata": {
        "id": "FHE7-ITNUogu"
      },
      "execution_count": null,
      "outputs": []
    },
    {
      "cell_type": "code",
      "source": [
        "test_loss"
      ],
      "metadata": {
        "colab": {
          "base_uri": "https://localhost:8080/"
        },
        "id": "jA3I8gtea0ea",
        "outputId": "2d065a94-871b-4820-fe82-f1c63c64f675"
      },
      "execution_count": null,
      "outputs": [
        {
          "output_type": "execute_result",
          "data": {
            "text/plain": [
              "0.11733613637774579"
            ]
          },
          "metadata": {},
          "execution_count": 25
        }
      ]
    },
    {
      "cell_type": "code",
      "source": [
        "test_loss = run(model_bases, test_loader, loss)"
      ],
      "metadata": {
        "id": "WNxyHbSkbqW4"
      },
      "execution_count": null,
      "outputs": []
    },
    {
      "cell_type": "code",
      "source": [
        "test_loss"
      ],
      "metadata": {
        "colab": {
          "base_uri": "https://localhost:8080/"
        },
        "id": "LzD8awW1B06w",
        "outputId": "86a793d0-65b8-4e72-d953-330cadb28963"
      },
      "execution_count": null,
      "outputs": [
        {
          "output_type": "execute_result",
          "data": {
            "text/plain": [
              "0.08890286663649385"
            ]
          },
          "metadata": {},
          "execution_count": 18
        }
      ]
    },
    {
      "cell_type": "code",
      "source": [
        "def run_test(model, dataloader, loss_function, optimizer=None):\n",
        "    if optimizer == None:\n",
        "        model.eval()\n",
        "    else:\n",
        "        model.train()\n",
        "\n",
        "    total_loss = 0\n",
        "    min_loss = 10**9\n",
        "\n",
        "    for X, y in dataloader:\n",
        "        pred = model(X)\n",
        "        loss = loss_function(pred, y)\n",
        "        total_loss += loss.item()\n",
        "        if loss < min_loss:\n",
        "          min_loss = loss\n",
        "\n",
        "\n",
        "    print(total_loss / len(dataloader))\n",
        "    return min_loss"
      ],
      "metadata": {
        "id": "kNpN1LUoi4Hi"
      },
      "execution_count": null,
      "outputs": []
    },
    {
      "cell_type": "code",
      "source": [
        "test_losses = run_test(model_bases, test_loader, loss)\n",
        "test_losses"
      ],
      "metadata": {
        "id": "nGehmkAhC8PE",
        "colab": {
          "base_uri": "https://localhost:8080/"
        },
        "outputId": "8fa472fb-863c-4ddd-8186-811424e829c6"
      },
      "execution_count": null,
      "outputs": [
        {
          "output_type": "stream",
          "name": "stdout",
          "text": [
            "0.08890286663649385\n"
          ]
        },
        {
          "output_type": "execute_result",
          "data": {
            "text/plain": [
              "tensor(2.0921e-05, grad_fn=<NllLossBackward0>)"
            ]
          },
          "metadata": {},
          "execution_count": 24
        }
      ]
    },
    {
      "cell_type": "code",
      "source": [
        "test_losses.item()"
      ],
      "metadata": {
        "colab": {
          "base_uri": "https://localhost:8080/"
        },
        "id": "tpX-LGGojsRn",
        "outputId": "9231c4ad-62a5-458f-b211-cc64dd207a34"
      },
      "execution_count": null,
      "outputs": [
        {
          "output_type": "execute_result",
          "data": {
            "text/plain": [
              "2.0920720999129117e-05"
            ]
          },
          "metadata": {},
          "execution_count": 25
        }
      ]
    },
    {
      "cell_type": "code",
      "source": [
        "def accuracy(model, dataloader, loss_function, optimizer=None):\n",
        "    if optimizer == None:\n",
        "        model.eval()\n",
        "    else:\n",
        "        model.train()\n",
        "\n",
        "    cnt = 0\n",
        "    all = 0\n",
        "\n",
        "    for X, y in dataloader:\n",
        "        pred = model(X)\n",
        "        for i in range(len(y)):\n",
        "          x1 = -10 ** 9\n",
        "          num = -1\n",
        "          for j in range(len(pred[i])):\n",
        "            if pred[i][j] > x1:\n",
        "              x1 = pred[i][j]\n",
        "              num = j\n",
        "          y1 = y[i]\n",
        "          if num == y1:\n",
        "            cnt+=1\n",
        "          all+=1\n",
        "\n",
        "    accuracy = cnt / all\n",
        "    return accuracy"
      ],
      "metadata": {
        "id": "Ki4tPXTZk-68"
      },
      "execution_count": null,
      "outputs": []
    },
    {
      "cell_type": "code",
      "source": [
        "acc = accuracy(model_bases, test_loader, loss)\n",
        "acc"
      ],
      "metadata": {
        "colab": {
          "base_uri": "https://localhost:8080/"
        },
        "id": "yOP2hQhEogoW",
        "outputId": "c33a219a-7a0a-4597-e7b5-669cab0495fb"
      },
      "execution_count": null,
      "outputs": [
        {
          "output_type": "execute_result",
          "data": {
            "text/plain": [
              "0.9743"
            ]
          },
          "metadata": {},
          "execution_count": 40
        }
      ]
    },
    {
      "cell_type": "code",
      "source": [
        "from sklearn.metrics import precision_score, recall_score"
      ],
      "metadata": {
        "id": "gOHrvudPsfSj"
      },
      "execution_count": null,
      "outputs": []
    },
    {
      "cell_type": "code",
      "source": [
        "def prep_metrics(model, dataloader):\n",
        "  model.eval()\n",
        "  true = []\n",
        "  pred = []\n",
        "\n",
        "  for x, y in dataloader:\n",
        "    pred_y = model(x)\n",
        "    _, predicted = torch.max(pred_y.data, 1)\n",
        "    true.extend(y.cpu().numpy())\n",
        "    pred.extend(predicted.cpu().numpy())\n",
        "  return precision_score(true, pred, average='weighted'), recall_score(true, pred, average='weighted')"
      ],
      "metadata": {
        "id": "8j9uQh9CwMbQ"
      },
      "execution_count": null,
      "outputs": []
    },
    {
      "cell_type": "code",
      "source": [
        "precision, recall = prep_metrics(model_bases, test_loader)"
      ],
      "metadata": {
        "id": "BUaf8rznxAD4"
      },
      "execution_count": null,
      "outputs": []
    },
    {
      "cell_type": "code",
      "source": [
        "precision"
      ],
      "metadata": {
        "colab": {
          "base_uri": "https://localhost:8080/"
        },
        "id": "LbZB8fOLxD9j",
        "outputId": "635dcc23-d8b7-4b48-ea1a-8b2d85aed416"
      },
      "execution_count": null,
      "outputs": [
        {
          "output_type": "execute_result",
          "data": {
            "text/plain": [
              "0.9744635900673299"
            ]
          },
          "metadata": {},
          "execution_count": 48
        }
      ]
    },
    {
      "cell_type": "code",
      "source": [
        "recall"
      ],
      "metadata": {
        "colab": {
          "base_uri": "https://localhost:8080/"
        },
        "id": "riYId10Pyhwt",
        "outputId": "0e16e970-9de8-4935-f21b-21d05353f3bb"
      },
      "execution_count": null,
      "outputs": [
        {
          "output_type": "execute_result",
          "data": {
            "text/plain": [
              "0.9743"
            ]
          },
          "metadata": {},
          "execution_count": 49
        }
      ]
    },
    {
      "cell_type": "code",
      "source": [
        "(2 * precision * recall) / (precision + recall)"
      ],
      "metadata": {
        "colab": {
          "base_uri": "https://localhost:8080/"
        },
        "id": "UirpJC0dyiUg",
        "outputId": "15823584-47c4-4027-bf87-94c799d6b7c7"
      },
      "execution_count": null,
      "outputs": [
        {
          "output_type": "execute_result",
          "data": {
            "text/plain": [
              "0.9743817881673343"
            ]
          },
          "metadata": {},
          "execution_count": 50
        }
      ]
    },
    {
      "cell_type": "markdown",
      "source": [
        "Первая модель имеет достаточно высокие показатели на ключ. метриках"
      ],
      "metadata": {
        "id": "RSMg8tFty-RW"
      }
    },
    {
      "cell_type": "markdown",
      "source": [
        "Сделаем модель с большим количеством слоев"
      ],
      "metadata": {
        "id": "908_pgiW0MHr"
      }
    },
    {
      "cell_type": "code",
      "source": [
        "model_with_more = nn.Sequential(\n",
        "    nn.Flatten(start_dim=1),\n",
        "    nn.Linear(in_features=28*28, out_features=784),\n",
        "    nn.Dropout(p=0.2),\n",
        "    nn.ReLU(),\n",
        "    nn.Linear(in_features=784, out_features=550),\n",
        "    nn.ReLU(),\n",
        "    nn.Dropout(p=0.2),\n",
        "    nn.Linear(in_features=550, out_features=690),\n",
        "    nn.Tanh(),\n",
        "    nn.Linear(in_features=690, out_features=280),\n",
        "    nn.Sigmoid(),\n",
        "    nn.Linear(in_features=280, out_features=290),\n",
        "    nn.ReLU(),\n",
        "    nn.Linear(in_features=290, out_features=300),\n",
        "    nn.Sigmoid(),\n",
        "    nn.Linear(in_features=300, out_features=100),\n",
        "    nn.Tanh(),\n",
        "    nn.Linear(in_features=100, out_features=10),\n",
        ")"
      ],
      "metadata": {
        "id": "yjNsVPkzz-xu"
      },
      "execution_count": null,
      "outputs": []
    },
    {
      "cell_type": "code",
      "source": [
        "summary(model_with_more, (1, 1, 28*28))"
      ],
      "metadata": {
        "colab": {
          "base_uri": "https://localhost:8080/"
        },
        "id": "_THJjeX03XUh",
        "outputId": "1e7be7d6-2fe3-4329-edb4-8d76de4cef00"
      },
      "execution_count": null,
      "outputs": [
        {
          "output_type": "stream",
          "name": "stdout",
          "text": [
            "----------------------------------------------------------------\n",
            "        Layer (type)               Output Shape         Param #\n",
            "================================================================\n",
            "           Flatten-1                  [-1, 784]               0\n",
            "            Linear-2                  [-1, 784]         615,440\n",
            "           Dropout-3                  [-1, 784]               0\n",
            "              ReLU-4                  [-1, 784]               0\n",
            "            Linear-5                  [-1, 550]         431,750\n",
            "              ReLU-6                  [-1, 550]               0\n",
            "           Dropout-7                  [-1, 550]               0\n",
            "            Linear-8                  [-1, 690]         380,190\n",
            "              Tanh-9                  [-1, 690]               0\n",
            "           Linear-10                  [-1, 280]         193,480\n",
            "          Sigmoid-11                  [-1, 280]               0\n",
            "           Linear-12                  [-1, 290]          81,490\n",
            "             ReLU-13                  [-1, 290]               0\n",
            "           Linear-14                  [-1, 300]          87,300\n",
            "          Sigmoid-15                  [-1, 300]               0\n",
            "           Linear-16                  [-1, 100]          30,100\n",
            "             Tanh-17                  [-1, 100]               0\n",
            "           Linear-18                   [-1, 10]           1,010\n",
            "================================================================\n",
            "Total params: 1,820,760\n",
            "Trainable params: 1,820,760\n",
            "Non-trainable params: 0\n",
            "----------------------------------------------------------------\n",
            "Input size (MB): 0.00\n",
            "Forward/backward pass size (MB): 0.06\n",
            "Params size (MB): 6.95\n",
            "Estimated Total Size (MB): 7.01\n",
            "----------------------------------------------------------------\n"
          ]
        }
      ]
    },
    {
      "cell_type": "code",
      "source": [
        "optimizer = optim.SGD(model_with_more.parameters(), lr=1e-1)"
      ],
      "metadata": {
        "id": "oubnlkiW3dAK"
      },
      "execution_count": null,
      "outputs": []
    },
    {
      "cell_type": "code",
      "source": [
        "BATCH_SIZE = 10\n",
        "NUM_EPOCHS = 40\n",
        "\n",
        "train_loader = DataLoader(train, batch_size=BATCH_SIZE)\n",
        "test_loader = DataLoader(test, batch_size=BATCH_SIZE)\n",
        "\n",
        "train_loss_hist = []\n",
        "test_loss_hist = []\n",
        "prev_loss = 10 ** 9\n",
        "\n",
        "for i in range(NUM_EPOCHS):\n",
        "    train_loss = run(model_with_more, train_loader, loss, optimizer)\n",
        "    train_loss_hist.append(train_loss)\n",
        "    test_loss = run(model_with_more, test_loader, loss)\n",
        "    test_loss_hist.append(test_loss)\n",
        "    if i % 1 == 0:\n",
        "        show_losses(train_loss_hist, test_loss_hist)\n",
        "    if prev_loss < test_loss:\n",
        "      print(\"Best Epochs: \", i - 1)\n",
        "      break\n",
        "    else:\n",
        "      prev_loss = test_loss"
      ],
      "metadata": {
        "colab": {
          "base_uri": "https://localhost:8080/",
          "height": 408
        },
        "id": "FxK1KPH34S4W",
        "outputId": "bd155361-9f71-4158-9b4d-cfa43734c545"
      },
      "execution_count": null,
      "outputs": [
        {
          "output_type": "display_data",
          "data": {
            "text/plain": [
              "<Figure size 1200x400 with 2 Axes>"
            ],
            "image/png": "[encoded data removed]"
          },
          "metadata": {}
        },
        {
          "output_type": "stream",
          "name": "stdout",
          "text": [
            "Best Epochs:  24\n"
          ]
        }
      ]
    },
    {
      "cell_type": "code",
      "source": [
        "test_losses = run_test(model_with_more, test_loader, loss)\n",
        "test_losses"
      ],
      "metadata": {
        "colab": {
          "base_uri": "https://localhost:8080/"
        },
        "id": "N_1xO0bC4la0",
        "outputId": "397a257d-49d6-4df0-9f5a-1e6aeef44471"
      },
      "execution_count": null,
      "outputs": [
        {
          "output_type": "stream",
          "name": "stdout",
          "text": [
            "0.12373543675336987\n"
          ]
        },
        {
          "output_type": "execute_result",
          "data": {
            "text/plain": [
              "tensor(0.0023, grad_fn=<NllLossBackward0>)"
            ]
          },
          "metadata": {},
          "execution_count": 72
        }
      ]
    },
    {
      "cell_type": "code",
      "source": [
        "test_losses.item()"
      ],
      "metadata": {
        "colab": {
          "base_uri": "https://localhost:8080/"
        },
        "id": "lmVtX28q7unJ",
        "outputId": "b3d66d47-6ff7-4ce6-ef28-f0f0667155b4"
      },
      "execution_count": null,
      "outputs": [
        {
          "output_type": "execute_result",
          "data": {
            "text/plain": [
              "0.0023184779565781355"
            ]
          },
          "metadata": {},
          "execution_count": 73
        }
      ]
    },
    {
      "cell_type": "code",
      "source": [
        "acc = accuracy(model_with_more, test_loader, loss)\n",
        "acc"
      ],
      "metadata": {
        "colab": {
          "base_uri": "https://localhost:8080/"
        },
        "id": "143wjTU57zFA",
        "outputId": "ba70a5b3-1284-422f-a6e9-b929c135beca"
      },
      "execution_count": null,
      "outputs": [
        {
          "output_type": "execute_result",
          "data": {
            "text/plain": [
              "0.9695"
            ]
          },
          "metadata": {},
          "execution_count": 74
        }
      ]
    },
    {
      "cell_type": "code",
      "source": [
        "precision, recall = prep_metrics(model_with_more, test_loader)"
      ],
      "metadata": {
        "id": "aDL6qm2E75QE"
      },
      "execution_count": null,
      "outputs": []
    },
    {
      "cell_type": "code",
      "source": [
        "precision"
      ],
      "metadata": {
        "colab": {
          "base_uri": "https://localhost:8080/"
        },
        "id": "GtQw2vWL8Fma",
        "outputId": "9b99b476-c634-45e1-be5e-e53fb9ea9f70"
      },
      "execution_count": null,
      "outputs": [
        {
          "output_type": "execute_result",
          "data": {
            "text/plain": [
              "0.9699690851487103"
            ]
          },
          "metadata": {},
          "execution_count": 76
        }
      ]
    },
    {
      "cell_type": "code",
      "source": [
        "recall"
      ],
      "metadata": {
        "colab": {
          "base_uri": "https://localhost:8080/"
        },
        "id": "ic2QdxcP8ImW",
        "outputId": "b438ae68-5634-495f-9ff6-886744202977"
      },
      "execution_count": null,
      "outputs": [
        {
          "output_type": "execute_result",
          "data": {
            "text/plain": [
              "0.9695"
            ]
          },
          "metadata": {},
          "execution_count": 77
        }
      ]
    },
    {
      "cell_type": "code",
      "source": [
        "(2 * precision * recall) / (precision + recall)"
      ],
      "metadata": {
        "colab": {
          "base_uri": "https://localhost:8080/"
        },
        "id": "I93qqTr58KQU",
        "outputId": "97380b82-27b4-4479-9e82-14232a5c89a7"
      },
      "execution_count": null,
      "outputs": [
        {
          "output_type": "execute_result",
          "data": {
            "text/plain": [
              "0.9697344858472647"
            ]
          },
          "metadata": {},
          "execution_count": 78
        }
      ]
    },
    {
      "cell_type": "markdown",
      "source": [
        "Модель не такая хорошая как первая, но все же имеет почти такие же значения метрик. Я хочу попробовать сильно уменьшить значения параметров и посмотреть на результаты модели."
      ],
      "metadata": {
        "id": "KZnNIjz-APcX"
      }
    },
    {
      "cell_type": "code",
      "source": [
        "model_low_numb = nn.Sequential(\n",
        "    nn.Flatten(start_dim=1),\n",
        "    nn.Linear(in_features=28*28, out_features=10),\n",
        "    nn.Dropout(p=0.2),\n",
        "    nn.ReLU(),\n",
        "    nn.Linear(in_features=10, out_features=5),\n",
        "    nn.ReLU(),\n",
        "    nn.Dropout(p=0.2),\n",
        "    nn.Linear(in_features=5, out_features=5),\n",
        "    nn.Tanh(),\n",
        "    nn.Linear(in_features=5, out_features=5),\n",
        "    nn.Sigmoid(),\n",
        "    nn.Linear(in_features=5, out_features=5),\n",
        "    nn.ReLU(),\n",
        "    nn.Linear(in_features=5, out_features=3),\n",
        "    nn.Sigmoid(),\n",
        "    nn.Linear(in_features=3, out_features=2),\n",
        "    nn.Tanh(),\n",
        "    nn.Linear(in_features=2, out_features=10),\n",
        ")"
      ],
      "metadata": {
        "id": "mB0f1BZk8Mi0"
      },
      "execution_count": null,
      "outputs": []
    },
    {
      "cell_type": "code",
      "source": [
        "summary(model_low_numb, (1, 1, 28*28))"
      ],
      "metadata": {
        "colab": {
          "base_uri": "https://localhost:8080/"
        },
        "id": "0ECHSqc3AqpS",
        "outputId": "ce3e3dfc-085c-4415-e82f-c73c25adae65"
      },
      "execution_count": null,
      "outputs": [
        {
          "output_type": "stream",
          "name": "stdout",
          "text": [
            "----------------------------------------------------------------\n",
            "        Layer (type)               Output Shape         Param #\n",
            "================================================================\n",
            "           Flatten-1                  [-1, 784]               0\n",
            "            Linear-2                   [-1, 10]           7,850\n",
            "           Dropout-3                   [-1, 10]               0\n",
            "              ReLU-4                   [-1, 10]               0\n",
            "            Linear-5                    [-1, 5]              55\n",
            "              ReLU-6                    [-1, 5]               0\n",
            "           Dropout-7                    [-1, 5]               0\n",
            "            Linear-8                    [-1, 5]              30\n",
            "              Tanh-9                    [-1, 5]               0\n",
            "           Linear-10                    [-1, 5]              30\n",
            "          Sigmoid-11                    [-1, 5]               0\n",
            "           Linear-12                    [-1, 5]              30\n",
            "             ReLU-13                    [-1, 5]               0\n",
            "           Linear-14                    [-1, 3]              18\n",
            "          Sigmoid-15                    [-1, 3]               0\n",
            "           Linear-16                    [-1, 2]               8\n",
            "             Tanh-17                    [-1, 2]               0\n",
            "           Linear-18                   [-1, 10]              30\n",
            "================================================================\n",
            "Total params: 8,051\n",
            "Trainable params: 8,051\n",
            "Non-trainable params: 0\n",
            "----------------------------------------------------------------\n",
            "Input size (MB): 0.00\n",
            "Forward/backward pass size (MB): 0.01\n",
            "Params size (MB): 0.03\n",
            "Estimated Total Size (MB): 0.04\n",
            "----------------------------------------------------------------\n"
          ]
        }
      ]
    },
    {
      "cell_type": "code",
      "source": [
        "optimizer = optim.SGD(model_low_numb.parameters(), lr=1e-1)"
      ],
      "metadata": {
        "id": "zegANPMCAtvP"
      },
      "execution_count": null,
      "outputs": []
    },
    {
      "cell_type": "code",
      "source": [
        "BATCH_SIZE = 10\n",
        "NUM_EPOCHS = 250\n",
        "\n",
        "train_loader = DataLoader(train, batch_size=BATCH_SIZE)\n",
        "test_loader = DataLoader(test, batch_size=BATCH_SIZE)\n",
        "\n",
        "train_loss_hist = []\n",
        "test_loss_hist = []\n",
        "prev_loss = 10 ** 9\n",
        "\n",
        "for i in range(NUM_EPOCHS):\n",
        "    train_loss = run(model_low_numb, train_loader, loss, optimizer)\n",
        "    train_loss_hist.append(train_loss)\n",
        "    test_loss = run(model_low_numb, test_loader, loss)\n",
        "    test_loss_hist.append(test_loss)\n",
        "    if i % 1 == 0:\n",
        "        show_losses(train_loss_hist, test_loss_hist)\n",
        "    if prev_loss < test_loss:\n",
        "      print(\"Best Epochs: \", i - 1)\n",
        "      break\n",
        "    else:\n",
        "      prev_loss = test_loss"
      ],
      "metadata": {
        "colab": {
          "base_uri": "https://localhost:8080/",
          "height": 408
        },
        "id": "G9SnF2Y4A1kh",
        "outputId": "5655a362-a3b8-4d3f-d6a3-9b234bb51e3d"
      },
      "execution_count": null,
      "outputs": [
        {
          "output_type": "display_data",
          "data": {
            "text/plain": [
              "<Figure size 1200x400 with 2 Axes>"
            ],
            "image/png": "[encoded data removed]"
          },
          "metadata": {}
        },
        {
          "output_type": "stream",
          "name": "stdout",
          "text": [
            "Best Epochs:  11\n"
          ]
        }
      ]
    },
    {
      "cell_type": "code",
      "source": [
        "test_losses = run_test(model_low_numb, test_loader, loss)\n",
        "test_losses"
      ],
      "metadata": {
        "colab": {
          "base_uri": "https://localhost:8080/"
        },
        "id": "w31b1UvOA6wG",
        "outputId": "48524e44-0e59-4a9c-f21b-229dc871d4d0"
      },
      "execution_count": null,
      "outputs": [
        {
          "output_type": "stream",
          "name": "stdout",
          "text": [
            "1.4667126318812371\n"
          ]
        },
        {
          "output_type": "execute_result",
          "data": {
            "text/plain": [
              "tensor(0.9933, grad_fn=<NllLossBackward0>)"
            ]
          },
          "metadata": {},
          "execution_count": 88
        }
      ]
    },
    {
      "cell_type": "code",
      "source": [
        "test_losses.item()"
      ],
      "metadata": {
        "colab": {
          "base_uri": "https://localhost:8080/"
        },
        "id": "jSZx567_B3zE",
        "outputId": "0c56af48-379a-4606-a6c9-cf7797d66149"
      },
      "execution_count": null,
      "outputs": [
        {
          "output_type": "execute_result",
          "data": {
            "text/plain": [
              "0.9932869076728821"
            ]
          },
          "metadata": {},
          "execution_count": 89
        }
      ]
    },
    {
      "cell_type": "code",
      "source": [
        "acc = accuracy(model_low_numb, test_loader, loss)\n",
        "acc"
      ],
      "metadata": {
        "colab": {
          "base_uri": "https://localhost:8080/"
        },
        "id": "T-gWY9PfB51U",
        "outputId": "b1848ca5-3582-47c2-893e-fb9a94618346"
      },
      "execution_count": null,
      "outputs": [
        {
          "output_type": "execute_result",
          "data": {
            "text/plain": [
              "0.3777"
            ]
          },
          "metadata": {},
          "execution_count": 90
        }
      ]
    },
    {
      "cell_type": "code",
      "source": [
        "precision, recall = prep_metrics(model_low_numb, test_loader)"
      ],
      "metadata": {
        "colab": {
          "base_uri": "https://localhost:8080/"
        },
        "id": "Ur-inYEvB8s4",
        "outputId": "4a49ea10-8b3f-4005-f203-2aed51ecfabb"
      },
      "execution_count": null,
      "outputs": [
        {
          "output_type": "stream",
          "name": "stderr",
          "text": [
            "/usr/local/lib/python3.10/dist-packages/sklearn/metrics/_classification.py:1531: UndefinedMetricWarning: Precision is ill-defined and being set to 0.0 in labels with no predicted samples. Use `zero_division` parameter to control this behavior.\n",
            "  _warn_prf(average, modifier, f\"{metric.capitalize()} is\", len(result))\n"
          ]
        }
      ]
    },
    {
      "cell_type": "code",
      "source": [
        "precision"
      ],
      "metadata": {
        "colab": {
          "base_uri": "https://localhost:8080/"
        },
        "id": "C4gBaiPoCAJE",
        "outputId": "d6dfc8fb-8efe-4377-ad96-93f89a675385"
      },
      "execution_count": null,
      "outputs": [
        {
          "output_type": "execute_result",
          "data": {
            "text/plain": [
              "0.2510332028082054"
            ]
          },
          "metadata": {},
          "execution_count": 92
        }
      ]
    },
    {
      "cell_type": "code",
      "source": [
        "recall"
      ],
      "metadata": {
        "colab": {
          "base_uri": "https://localhost:8080/"
        },
        "id": "YqT3TIcCCGMC",
        "outputId": "96d9e0f3-9221-43ea-f91d-ebac9ae0d9fb"
      },
      "execution_count": null,
      "outputs": [
        {
          "output_type": "execute_result",
          "data": {
            "text/plain": [
              "0.3777"
            ]
          },
          "metadata": {},
          "execution_count": 93
        }
      ]
    },
    {
      "cell_type": "code",
      "source": [
        "(2 * precision * recall) / (precision + recall)"
      ],
      "metadata": {
        "colab": {
          "base_uri": "https://localhost:8080/"
        },
        "id": "P-UYUEOhCIEO",
        "outputId": "e6783ab1-9024-407f-9a7e-ed72bfab3a52"
      },
      "execution_count": null,
      "outputs": [
        {
          "output_type": "execute_result",
          "data": {
            "text/plain": [
              "0.3016072326932049"
            ]
          },
          "metadata": {},
          "execution_count": 94
        }
      ]
    },
    {
      "cell_type": "markdown",
      "source": [
        "Можно заметить, что параметры влияют на качество полученной модели."
      ],
      "metadata": {
        "id": "u03UjpuQC8l3"
      }
    },
    {
      "cell_type": "markdown",
      "source": [
        "Сейчас я хочу к лучшей модели (1), добавить BatchNorm и Dropout."
      ],
      "metadata": {
        "id": "Jt69iTXWL4Er"
      }
    },
    {
      "cell_type": "code",
      "source": [
        "model_bases_upd = nn.Sequential(\n",
        "    nn.Flatten(start_dim=1),\n",
        "    nn.Linear(in_features=28*28, out_features=784),\n",
        "    nn.BatchNorm1d(784),\n",
        "    nn.ReLU(),\n",
        "    nn.Linear(in_features=784, out_features=784),\n",
        "    nn.BatchNorm1d(784),\n",
        "    nn.Dropout(p=0.2),\n",
        "    nn.ReLU(),\n",
        "    nn.Sigmoid(),\n",
        "    nn.Linear(in_features=784, out_features=10),\n",
        ")"
      ],
      "metadata": {
        "id": "Qxo6slKkEGj2"
      },
      "execution_count": null,
      "outputs": []
    },
    {
      "cell_type": "code",
      "source": [
        "summary(model_bases_upd, (1, 28, 28))"
      ],
      "metadata": {
        "colab": {
          "base_uri": "https://localhost:8080/"
        },
        "id": "D0rOwwRJMaLG",
        "outputId": "f0bcebec-fdc1-402d-d6a8-076923eb83db"
      },
      "execution_count": null,
      "outputs": [
        {
          "output_type": "stream",
          "name": "stdout",
          "text": [
            "----------------------------------------------------------------\n",
            "        Layer (type)               Output Shape         Param #\n",
            "================================================================\n",
            "           Flatten-1                  [-1, 784]               0\n",
            "            Linear-2                  [-1, 784]         615,440\n",
            "       BatchNorm1d-3                  [-1, 784]           1,568\n",
            "              ReLU-4                  [-1, 784]               0\n",
            "            Linear-5                  [-1, 784]         615,440\n",
            "       BatchNorm1d-6                  [-1, 784]           1,568\n",
            "           Dropout-7                  [-1, 784]               0\n",
            "              ReLU-8                  [-1, 784]               0\n",
            "           Sigmoid-9                  [-1, 784]               0\n",
            "           Linear-10                   [-1, 10]           7,850\n",
            "================================================================\n",
            "Total params: 1,241,866\n",
            "Trainable params: 1,241,866\n",
            "Non-trainable params: 0\n",
            "----------------------------------------------------------------\n",
            "Input size (MB): 0.00\n",
            "Forward/backward pass size (MB): 0.05\n",
            "Params size (MB): 4.74\n",
            "Estimated Total Size (MB): 4.79\n",
            "----------------------------------------------------------------\n"
          ]
        }
      ]
    },
    {
      "cell_type": "code",
      "source": [
        "optimizer = optim.SGD(model_bases_upd.parameters(), lr=1e-1)"
      ],
      "metadata": {
        "id": "6xVvtWjJMfnM"
      },
      "execution_count": null,
      "outputs": []
    },
    {
      "cell_type": "code",
      "source": [
        "BATCH_SIZE = 10\n",
        "NUM_EPOCHS = 40\n",
        "\n",
        "train_loader = DataLoader(train, batch_size=BATCH_SIZE)\n",
        "test_loader = DataLoader(test, batch_size=BATCH_SIZE)\n",
        "\n",
        "train_loss_hist = []\n",
        "test_loss_hist = []\n",
        "prev_loss = 10 ** 9\n",
        "\n",
        "for i in range(NUM_EPOCHS):\n",
        "    train_loss = run(model_bases_upd, train_loader, loss, optimizer)\n",
        "    train_loss_hist.append(train_loss)\n",
        "    test_loss = run(model_bases_upd, test_loader, loss)\n",
        "    test_loss_hist.append(test_loss)\n",
        "    if i % 1 == 0:\n",
        "        show_losses(train_loss_hist, test_loss_hist)\n",
        "    if prev_loss < test_loss:\n",
        "      print(\"Best Epochs: \", i - 1)\n",
        "      break\n",
        "    else:\n",
        "      prev_loss = test_loss"
      ],
      "metadata": {
        "colab": {
          "base_uri": "https://localhost:8080/",
          "height": 408
        },
        "id": "Y_ajDUsmOdJ6",
        "outputId": "5f0ba25d-4572-423b-8284-e83b28d16166"
      },
      "execution_count": null,
      "outputs": [
        {
          "output_type": "display_data",
          "data": {
            "text/plain": [
              "<Figure size 1200x400 with 2 Axes>"
            ],
            "image/png": "[encoded data removed]"
          },
          "metadata": {}
        },
        {
          "output_type": "stream",
          "name": "stdout",
          "text": [
            "Best Epochs:  3\n"
          ]
        }
      ]
    },
    {
      "cell_type": "code",
      "source": [
        "test_losses = run_test(model_bases_upd, test_loader, loss)\n",
        "test_losses"
      ],
      "metadata": {
        "colab": {
          "base_uri": "https://localhost:8080/"
        },
        "id": "Th5jqVJVM2--",
        "outputId": "4dd06851-6956-4cfc-9296-ebfbeb96e7f9"
      },
      "execution_count": null,
      "outputs": [
        {
          "output_type": "stream",
          "name": "stdout",
          "text": [
            "0.14219279153432476\n"
          ]
        },
        {
          "output_type": "execute_result",
          "data": {
            "text/plain": [
              "tensor(2.0266e-07, grad_fn=<NllLossBackward0>)"
            ]
          },
          "metadata": {},
          "execution_count": 116
        }
      ]
    },
    {
      "cell_type": "code",
      "source": [
        "test_losses.item()"
      ],
      "metadata": {
        "colab": {
          "base_uri": "https://localhost:8080/"
        },
        "id": "1Qvl_Q07M8hr",
        "outputId": "4fc3a30c-5e61-4c9e-d0c6-08a625986a74"
      },
      "execution_count": null,
      "outputs": [
        {
          "output_type": "execute_result",
          "data": {
            "text/plain": [
              "2.026556842338323e-07"
            ]
          },
          "metadata": {},
          "execution_count": 117
        }
      ]
    },
    {
      "cell_type": "code",
      "source": [
        "acc = accuracy(model_bases_upd, test_loader, loss)\n",
        "acc"
      ],
      "metadata": {
        "colab": {
          "base_uri": "https://localhost:8080/"
        },
        "id": "3wd1PWYaM-8C",
        "outputId": "4e346d56-c619-4159-9c3c-11abb7a2f9cc"
      },
      "execution_count": null,
      "outputs": [
        {
          "output_type": "execute_result",
          "data": {
            "text/plain": [
              "0.9621"
            ]
          },
          "metadata": {},
          "execution_count": 118
        }
      ]
    },
    {
      "cell_type": "code",
      "source": [
        "precision, recall = prep_metrics(model_bases_upd, test_loader)"
      ],
      "metadata": {
        "id": "QYWy4pSJNDdk"
      },
      "execution_count": null,
      "outputs": []
    },
    {
      "cell_type": "code",
      "source": [
        "precision"
      ],
      "metadata": {
        "colab": {
          "base_uri": "https://localhost:8080/"
        },
        "id": "rAYrF1CyNG8k",
        "outputId": "a2044765-f889-409f-f8dd-12c9ddc5e6cb"
      },
      "execution_count": null,
      "outputs": [
        {
          "output_type": "execute_result",
          "data": {
            "text/plain": [
              "0.9646173673148214"
            ]
          },
          "metadata": {},
          "execution_count": 120
        }
      ]
    },
    {
      "cell_type": "code",
      "source": [
        "recall"
      ],
      "metadata": {
        "colab": {
          "base_uri": "https://localhost:8080/"
        },
        "id": "g01ec_PYNJEv",
        "outputId": "4d50a816-8c2e-4f2d-8eed-16292b2fcf07"
      },
      "execution_count": null,
      "outputs": [
        {
          "output_type": "execute_result",
          "data": {
            "text/plain": [
              "0.9621"
            ]
          },
          "metadata": {},
          "execution_count": 121
        }
      ]
    },
    {
      "cell_type": "code",
      "source": [
        "(2 * precision * recall) / (precision + recall)"
      ],
      "metadata": {
        "colab": {
          "base_uri": "https://localhost:8080/"
        },
        "id": "nYhVagd_NKr2",
        "outputId": "9509c1e5-4620-4722-acd1-3ed8f84a259a"
      },
      "execution_count": null,
      "outputs": [
        {
          "output_type": "execute_result",
          "data": {
            "text/plain": [
              "0.9633570391146498"
            ]
          },
          "metadata": {},
          "execution_count": 122
        }
      ]
    },
    {
      "cell_type": "markdown",
      "source": [
        "Можно заметить, что показатели на метриках не очень значительно ухудшились, но модель начала обучаться гораздо быстрее, и это позволяет повысить количество параметров."
      ],
      "metadata": {
        "id": "jln07j8EQK1O"
      }
    },
    {
      "cell_type": "markdown",
      "source": [
        "**ВЫВОД**"
      ],
      "metadata": {
        "id": "MvPfZohMQWTZ"
      }
    },
    {
      "cell_type": "markdown",
      "source": [
        "Таблица результатов моделей - https://docs.google.com/spreadsheets/d/19RmZq1vyapwrzosvWmQjlG1m16V2YkoVaLkgdHWVIes/edit?usp=sharing"
      ],
      "metadata": {
        "id": "54CdoEOZQXyX"
      }
    },
    {
      "cell_type": "markdown",
      "source": [
        "Лучшая модель по данной таблице - модель 1. (model_bases)"
      ],
      "metadata": {
        "id": "wkHyn7UyQbcD"
      }
    },
    {
      "cell_type": "markdown",
      "source": [
        "У меня объяснение такое, модель содержит достаточно большое количество параметров, а также нелинейные функции активации, также в ней не используется BatchNorm1d, который бы заметно уменьшил время обучения, но чуть бы сказался на точности, хотя это позволяет нам использовать большее количество параметров. Хотя можно заметить, что использование большого количества параметров, много слоев, и Dropout не всегда хорошо влияют на модель, ее значения могут чуть ухудшится, скорее всего потому что возможно не очень хорошо подобраны некоторые функции активации, либо же слишком большое количество параметров, или dropout в данном случае влияет на нашу точность."
      ],
      "metadata": {
        "id": "KirLn3VAQbKR"
      }
    }
  ]
}