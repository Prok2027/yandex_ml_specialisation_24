{
  "nbformat": 4,
  "nbformat_minor": 0,
  "metadata": {
    "colab": {
      "provenance": []
    },
    "kernelspec": {
      "name": "python3",
      "display_name": "Python 3"
    },
    "language_info": {
      "name": "python"
    }
  },
  "cells": [
    {
      "cell_type": "code",
      "execution_count": null,
      "metadata": {
        "id": "MIq5ZJdqlyV1"
      },
      "outputs": [],
      "source": [
        "import torch\n",
        "import numpy as np\n",
        "import matplotlib.pyplot as plt\n",
        "from torch.utils.data import DataLoader\n",
        "from torchvision import datasets\n",
        "import torchvision.transforms as trans\n",
        "from torch import nn\n",
        "from torch import optim\n",
        "from IPython.display import clear_output\n",
        "from torch.utils.data import random_split\n",
        "from torchsummary import summary"
      ]
    },
    {
      "cell_type": "code",
      "source": [
        "device = torch.device(\"cuda\" if torch.cuda.is_available() else \"cpu\")\n",
        "device"
      ],
      "metadata": {
        "colab": {
          "base_uri": "https://localhost:8080/"
        },
        "id": "9cBQ4lwemOpQ",
        "outputId": "7f010f9f-c79b-4563-b323-e2bc436d599f"
      },
      "execution_count": null,
      "outputs": [
        {
          "output_type": "execute_result",
          "data": {
            "text/plain": [
              "device(type='cpu')"
            ]
          },
          "metadata": {},
          "execution_count": 3
        }
      ]
    },
    {
      "cell_type": "code",
      "source": [
        "train = datasets.FashionMNIST(root='./data', train=True, download=True, transform=trans.ToTensor())"
      ],
      "metadata": {
        "colab": {
          "base_uri": "https://localhost:8080/"
        },
        "id": "vhMzVWqjmsSs",
        "outputId": "1a8b1a26-8975-40ff-d63e-b2d50f2d0c98"
      },
      "execution_count": null,
      "outputs": [
        {
          "output_type": "stream",
          "name": "stdout",
          "text": [
            "Downloading http://fashion-mnist.s3-website.eu-central-1.amazonaws.com/train-images-idx3-ubyte.gz\n",
            "Downloading http://fashion-mnist.s3-website.eu-central-1.amazonaws.com/train-images-idx3-ubyte.gz to ./data/FashionMNIST/raw/train-images-idx3-ubyte.gz\n"
          ]
        },
        {
          "output_type": "stream",
          "name": "stderr",
          "text": [
            "100%|██████████| 26.4M/26.4M [00:02<00:00, 12.8MB/s]\n"
          ]
        },
        {
          "output_type": "stream",
          "name": "stdout",
          "text": [
            "Extracting ./data/FashionMNIST/raw/train-images-idx3-ubyte.gz to ./data/FashionMNIST/raw\n",
            "\n",
            "Downloading http://fashion-mnist.s3-website.eu-central-1.amazonaws.com/train-labels-idx1-ubyte.gz\n",
            "Downloading http://fashion-mnist.s3-website.eu-central-1.amazonaws.com/train-labels-idx1-ubyte.gz to ./data/FashionMNIST/raw/train-labels-idx1-ubyte.gz\n"
          ]
        },
        {
          "output_type": "stream",
          "name": "stderr",
          "text": [
            "100%|██████████| 29.5k/29.5k [00:00<00:00, 203kB/s]\n"
          ]
        },
        {
          "output_type": "stream",
          "name": "stdout",
          "text": [
            "Extracting ./data/FashionMNIST/raw/train-labels-idx1-ubyte.gz to ./data/FashionMNIST/raw\n",
            "\n",
            "Downloading http://fashion-mnist.s3-website.eu-central-1.amazonaws.com/t10k-images-idx3-ubyte.gz\n",
            "Downloading http://fashion-mnist.s3-website.eu-central-1.amazonaws.com/t10k-images-idx3-ubyte.gz to ./data/FashionMNIST/raw/t10k-images-idx3-ubyte.gz\n"
          ]
        },
        {
          "output_type": "stream",
          "name": "stderr",
          "text": [
            "100%|██████████| 4.42M/4.42M [00:01<00:00, 3.84MB/s]\n"
          ]
        },
        {
          "output_type": "stream",
          "name": "stdout",
          "text": [
            "Extracting ./data/FashionMNIST/raw/t10k-images-idx3-ubyte.gz to ./data/FashionMNIST/raw\n",
            "\n",
            "Downloading http://fashion-mnist.s3-website.eu-central-1.amazonaws.com/t10k-labels-idx1-ubyte.gz\n",
            "Downloading http://fashion-mnist.s3-website.eu-central-1.amazonaws.com/t10k-labels-idx1-ubyte.gz to ./data/FashionMNIST/raw/t10k-labels-idx1-ubyte.gz\n"
          ]
        },
        {
          "output_type": "stream",
          "name": "stderr",
          "text": [
            "100%|██████████| 5.15k/5.15k [00:00<00:00, 5.92MB/s]"
          ]
        },
        {
          "output_type": "stream",
          "name": "stdout",
          "text": [
            "Extracting ./data/FashionMNIST/raw/t10k-labels-idx1-ubyte.gz to ./data/FashionMNIST/raw\n",
            "\n"
          ]
        },
        {
          "output_type": "stream",
          "name": "stderr",
          "text": [
            "\n"
          ]
        }
      ]
    },
    {
      "cell_type": "code",
      "source": [
        "test = datasets.FashionMNIST(root='./data', train=False, transform=trans.ToTensor())"
      ],
      "metadata": {
        "id": "2yef0QvNrJ6B"
      },
      "execution_count": null,
      "outputs": []
    },
    {
      "cell_type": "code",
      "source": [
        "fig, axs = plt.subplots(4, 4, figsize=(8, 8))\n",
        "for i in range(4):\n",
        "    for j in range(4):\n",
        "        image, label = train[i * 4 + j]\n",
        "        image_numpy = image.numpy().squeeze()\n",
        "        axs[i, j].imshow(image_numpy, cmap='gray')\n",
        "        axs[i, j].axis('off')\n",
        "        axs[i, j].set_title(f\"Label: {label}\")\n",
        "plt.tight_layout()\n",
        "plt.show()"
      ],
      "metadata": {
        "colab": {
          "base_uri": "https://localhost:8080/",
          "height": 806
        },
        "id": "0siyuucCrbaB",
        "outputId": "3910ffd5-c72a-45fa-b2fb-61982425b090"
      },
      "execution_count": null,
      "outputs": [
        {
          "output_type": "display_data",
          "data": {
            "text/plain": [
              "<Figure size 800x800 with 16 Axes>"
            ],
            "image/png": "[encoded data removed]"
          },
          "metadata": {}
        }
      ]
    },
    {
      "cell_type": "code",
      "source": [
        "train_set, valid = random_split(train, (0.95, 0.05))"
      ],
      "metadata": {
        "id": "zNvTbihLsK_C"
      },
      "execution_count": null,
      "outputs": []
    },
    {
      "cell_type": "code",
      "source": [
        "model = nn.Sequential(\n",
        "    nn.Flatten(start_dim=-3),\n",
        "    nn.Linear(in_features=784, out_features=1500),\n",
        "    nn.BatchNorm1d(1500),\n",
        "    nn.ReLU(),\n",
        "    nn.Linear(in_features=1500, out_features=888),\n",
        "    nn.BatchNorm1d(888),\n",
        "    nn.Sigmoid(),\n",
        "    nn.Linear(in_features=888, out_features=100),\n",
        "    nn.BatchNorm1d(100),\n",
        "    nn.ReLU(),\n",
        "    nn.Linear(in_features=100, out_features=10),\n",
        ")"
      ],
      "metadata": {
        "id": "hC8f13KftMgr"
      },
      "execution_count": null,
      "outputs": []
    },
    {
      "cell_type": "code",
      "source": [
        "summary(model, (1, 28, 28))"
      ],
      "metadata": {
        "colab": {
          "base_uri": "https://localhost:8080/"
        },
        "id": "VgWSNA0BvI2k",
        "outputId": "066c7a35-603a-44c7-c15b-1a740d57c96d"
      },
      "execution_count": null,
      "outputs": [
        {
          "output_type": "stream",
          "name": "stdout",
          "text": [
            "----------------------------------------------------------------\n",
            "        Layer (type)               Output Shape         Param #\n",
            "================================================================\n",
            "           Flatten-1                  [-1, 784]               0\n",
            "            Linear-2                 [-1, 1500]       1,177,500\n",
            "       BatchNorm1d-3                 [-1, 1500]           3,000\n",
            "              ReLU-4                 [-1, 1500]               0\n",
            "            Linear-5                  [-1, 888]       1,332,888\n",
            "       BatchNorm1d-6                  [-1, 888]           1,776\n",
            "           Sigmoid-7                  [-1, 888]               0\n",
            "            Linear-8                  [-1, 100]          88,900\n",
            "       BatchNorm1d-9                  [-1, 100]             200\n",
            "             ReLU-10                  [-1, 100]               0\n",
            "           Linear-11                   [-1, 10]           1,010\n",
            "================================================================\n",
            "Total params: 2,605,274\n",
            "Trainable params: 2,605,274\n",
            "Non-trainable params: 0\n",
            "----------------------------------------------------------------\n",
            "Input size (MB): 0.00\n",
            "Forward/backward pass size (MB): 0.06\n",
            "Params size (MB): 9.94\n",
            "Estimated Total Size (MB): 10.00\n",
            "----------------------------------------------------------------\n"
          ]
        }
      ]
    },
    {
      "cell_type": "code",
      "source": [
        "loss = nn.CrossEntropyLoss()"
      ],
      "metadata": {
        "id": "VweDGSHPvOJN"
      },
      "execution_count": null,
      "outputs": []
    },
    {
      "cell_type": "code",
      "source": [
        "optimizer = optim.SGD(model.parameters(), lr=1e-3)"
      ],
      "metadata": {
        "id": "yrqeCUu5vw96"
      },
      "execution_count": null,
      "outputs": []
    },
    {
      "cell_type": "code",
      "source": [
        "def run(model, dataloader, loss_function, optimizer = None):\n",
        "  if optimizer == None:\n",
        "    model.eval()\n",
        "  else:\n",
        "    model.train()\n",
        "  total = 0\n",
        "  for x, y in dataloader:\n",
        "    pred = model(x)\n",
        "    loss = loss_function(pred, y)\n",
        "    total += loss.item()\n",
        "    if optimizer != None:\n",
        "      loss.backward()\n",
        "      optimizer.step()\n",
        "      optimizer.zero_grad()\n",
        "  return total / len(dataloader)"
      ],
      "metadata": {
        "id": "BCzQDDt6v5Cr"
      },
      "execution_count": null,
      "outputs": []
    },
    {
      "cell_type": "code",
      "source": [
        "from IPython.display import clear_output\n",
        "\n",
        "def show_losses(train_loss_hist, test_loss_hist):\n",
        "    clear_output()\n",
        "\n",
        "    plt.figure(figsize=(12,4))\n",
        "\n",
        "    plt.subplot(1, 2, 1)\n",
        "    plt.title('Train Loss')\n",
        "    plt.plot(np.arange(len(train_loss_hist)), train_loss_hist)\n",
        "    plt.yscale('log')\n",
        "    plt.grid()\n",
        "\n",
        "    plt.subplot(1, 2, 2)\n",
        "    plt.title('Test Loss')\n",
        "    plt.plot(np.arange(len(test_loss_hist)), test_loss_hist)\n",
        "    plt.yscale('log')\n",
        "    plt.grid()\n",
        "\n",
        "    plt.show()"
      ],
      "metadata": {
        "id": "XWZN2pM7w2b5"
      },
      "execution_count": null,
      "outputs": []
    },
    {
      "cell_type": "code",
      "source": [
        "Batch = 100\n",
        "Epochs = 100\n",
        "\n",
        "train_loader = DataLoader(train_set, batch_size=Batch)\n",
        "valid_loader = DataLoader(valid, batch_size=Batch)\n",
        "\n",
        "train_loss_hist = []\n",
        "test_loss_hist = []\n",
        "prev_loss = 10 ** 9\n",
        "\n",
        "for i in range(Epochs):\n",
        "    train_loss = run(model, train_loader, loss, optimizer)\n",
        "    train_loss_hist.append(train_loss)\n",
        "    test_loss = run(model, valid_loader, loss)\n",
        "    test_loss_hist.append(test_loss)\n",
        "    if i % 1 == 0:\n",
        "        show_losses(train_loss_hist, test_loss_hist)\n",
        "    if prev_loss < test_loss:\n",
        "      print(\"Best Epochs: \", i - 1)\n",
        "      break\n",
        "    else:\n",
        "      prev_loss = test_loss"
      ],
      "metadata": {
        "colab": {
          "base_uri": "https://localhost:8080/",
          "height": 408
        },
        "id": "CiIztZVfw4Cj",
        "outputId": "b2fec8b2-6258-4e58-f6e2-4c5639a1d7a8"
      },
      "execution_count": null,
      "outputs": [
        {
          "output_type": "display_data",
          "data": {
            "text/plain": [
              "<Figure size 1200x400 with 2 Axes>"
            ],
            "image/png": "[encoded data removed]"
          },
          "metadata": {}
        },
        {
          "output_type": "stream",
          "name": "stdout",
          "text": [
            "Best Epochs:  38\n"
          ]
        }
      ]
    },
    {
      "cell_type": "code",
      "source": [
        "test_loader = DataLoader(test, batch_size=Batch)"
      ],
      "metadata": {
        "id": "LISckwGr3Jgx"
      },
      "execution_count": null,
      "outputs": []
    },
    {
      "cell_type": "code",
      "source": [
        "test_loss = run(model, test_loader, loss)\n",
        "test_loss"
      ],
      "metadata": {
        "colab": {
          "base_uri": "https://localhost:8080/"
        },
        "id": "L8vY2-HgyWz0",
        "outputId": "1d828523-6600-4378-9036-b5cb423821f5"
      },
      "execution_count": null,
      "outputs": [
        {
          "output_type": "execute_result",
          "data": {
            "text/plain": [
              "0.33240177765488627"
            ]
          },
          "metadata": {},
          "execution_count": 42
        }
      ]
    },
    {
      "cell_type": "code",
      "source": [
        "def accuracy(model, dataloader, loss_function, optimizer=None):\n",
        "    if optimizer == None:\n",
        "        model.eval()\n",
        "    else:\n",
        "        model.train()\n",
        "\n",
        "    cnt = 0\n",
        "    all = 0\n",
        "\n",
        "    for X, y in dataloader:\n",
        "        pred = model(X)\n",
        "        for i in range(len(y)):\n",
        "          x1 = -10 ** 9\n",
        "          num = -1\n",
        "          for j in range(len(pred[i])):\n",
        "            if pred[i][j] > x1:\n",
        "              x1 = pred[i][j]\n",
        "              num = j\n",
        "          y1 = y[i]\n",
        "          if num == y1:\n",
        "            cnt+=1\n",
        "          all+=1\n",
        "\n",
        "    accuracy = cnt / all\n",
        "    return accuracy"
      ],
      "metadata": {
        "id": "2hXGHF2k3RA9"
      },
      "execution_count": null,
      "outputs": []
    },
    {
      "cell_type": "code",
      "source": [
        "acc = accuracy(model, test_loader, loss)\n",
        "acc"
      ],
      "metadata": {
        "colab": {
          "base_uri": "https://localhost:8080/"
        },
        "id": "ZzudmJP-3YyV",
        "outputId": "594bdf09-6939-4295-91fd-c15f2cdd3e89"
      },
      "execution_count": null,
      "outputs": [
        {
          "output_type": "execute_result",
          "data": {
            "text/plain": [
              "0.8857"
            ]
          },
          "metadata": {},
          "execution_count": 44
        }
      ]
    },
    {
      "cell_type": "code",
      "source": [
        "from sklearn.metrics import precision_score, recall_score"
      ],
      "metadata": {
        "id": "lxfVa0wg3bpK"
      },
      "execution_count": null,
      "outputs": []
    },
    {
      "cell_type": "code",
      "source": [
        "def prep_metrics(model, dataloader):\n",
        "  model.eval()\n",
        "  true = []\n",
        "  pred = []\n",
        "\n",
        "  for x, y in dataloader:\n",
        "    pred_y = model(x)\n",
        "    _, predicted = torch.max(pred_y.data, 1)\n",
        "    true.extend(y.cpu().numpy())\n",
        "    pred.extend(predicted.cpu().numpy())\n",
        "  return precision_score(true, pred, average='weighted'), recall_score(true, pred, average='weighted')"
      ],
      "metadata": {
        "id": "_tNwesms3iq6"
      },
      "execution_count": null,
      "outputs": []
    },
    {
      "cell_type": "code",
      "source": [
        "precision, recall = prep_metrics(model, test_loader)"
      ],
      "metadata": {
        "id": "adZYjGrp3kA0"
      },
      "execution_count": null,
      "outputs": []
    },
    {
      "cell_type": "code",
      "source": [
        "precision"
      ],
      "metadata": {
        "colab": {
          "base_uri": "https://localhost:8080/"
        },
        "id": "NvxSFmay3lg-",
        "outputId": "8f26b194-c337-4c57-a2b1-d6842a4e6261"
      },
      "execution_count": null,
      "outputs": [
        {
          "output_type": "execute_result",
          "data": {
            "text/plain": [
              "0.8868129962533083"
            ]
          },
          "metadata": {},
          "execution_count": 49
        }
      ]
    },
    {
      "cell_type": "code",
      "source": [
        "recall"
      ],
      "metadata": {
        "colab": {
          "base_uri": "https://localhost:8080/"
        },
        "id": "wn8s2V7z3pLF",
        "outputId": "411584da-e8f9-4915-b3f0-dcf280ba3b02"
      },
      "execution_count": null,
      "outputs": [
        {
          "output_type": "execute_result",
          "data": {
            "text/plain": [
              "0.8857"
            ]
          },
          "metadata": {},
          "execution_count": 50
        }
      ]
    },
    {
      "cell_type": "code",
      "source": [
        "(2 * precision * recall) / (precision + recall)"
      ],
      "metadata": {
        "colab": {
          "base_uri": "https://localhost:8080/"
        },
        "id": "Eb8R_urX3q4a",
        "outputId": "896a3b24-206d-4ab7-9867-73a26f04f42a"
      },
      "execution_count": null,
      "outputs": [
        {
          "output_type": "execute_result",
          "data": {
            "text/plain": [
              "0.8862561486903843"
            ]
          },
          "metadata": {},
          "execution_count": 51
        }
      ]
    },
    {
      "cell_type": "markdown",
      "source": [
        "ВЫВОД:"
      ],
      "metadata": {
        "id": "O4YKb9ZD32RZ"
      }
    },
    {
      "cell_type": "markdown",
      "source": [
        "Можно заметить, что модель в принципе имеет достаточно хорошую точность, и достаточно не высокий loss, учитывая, что она еще не использует свертки. В принципе структуру можно оставить и добавить туда сверток."
      ],
      "metadata": {
        "id": "s9p_aLfn33YX"
      }
    }
  ]
}