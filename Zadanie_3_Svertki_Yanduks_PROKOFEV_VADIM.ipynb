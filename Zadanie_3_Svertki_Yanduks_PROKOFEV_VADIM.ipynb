{
  "nbformat": 4,
  "nbformat_minor": 0,
  "metadata": {
    "colab": {
      "provenance": []
    },
    "kernelspec": {
      "name": "python3",
      "display_name": "Python 3"
    },
    "language_info": {
      "name": "python"
    }
  },
  "cells": [
    {
      "cell_type": "code",
      "execution_count": null,
      "metadata": {
        "id": "BD_i1ykKMGVG"
      },
      "outputs": [],
      "source": [
        "import torch\n",
        "import numpy as np\n",
        "import matplotlib.pyplot as plt\n",
        "from torch.utils.data import DataLoader, ConcatDataset\n",
        "from torchvision import datasets\n",
        "import torchvision.transforms as trans\n",
        "from torch import nn\n",
        "from torch import optim\n",
        "from IPython.display import clear_output\n",
        "from torch.utils.data import random_split\n",
        "from torchsummary import summary\n",
        "from torchvision.transforms.v2 import RandomHorizontalFlip\n",
        "from torchvision.transforms.v2 import Compose, PILToTensor, ToDtype, Normalize"
      ]
    },
    {
      "cell_type": "code",
      "source": [
        "device = torch.device(\"cuda\" if torch.cuda.is_available() else \"cpu\")\n",
        "device"
      ],
      "metadata": {
        "id": "T1F8RCZuMKg5",
        "colab": {
          "base_uri": "https://localhost:8080/"
        },
        "outputId": "9d32071c-afd3-4f81-f43d-e9f7c9937f7d"
      },
      "execution_count": null,
      "outputs": [
        {
          "output_type": "execute_result",
          "data": {
            "text/plain": [
              "device(type='cpu')"
            ]
          },
          "metadata": {},
          "execution_count": 2
        }
      ]
    },
    {
      "cell_type": "code",
      "source": [
        "transform = trans.Compose([\n",
        "    trans.Grayscale(num_output_channels=3),\n",
        "    trans.ToTensor(),\n",
        "    trans.Normalize((0.5,), (0.5,))\n",
        "])"
      ],
      "metadata": {
        "id": "yK8apwseMlcT"
      },
      "execution_count": null,
      "outputs": []
    },
    {
      "cell_type": "code",
      "source": [
        "train = datasets.FashionMNIST(root='./data', train=True, download=True, transform=transform)"
      ],
      "metadata": {
        "id": "Whq8jGPfMnQt"
      },
      "execution_count": null,
      "outputs": []
    },
    {
      "cell_type": "code",
      "source": [
        "test = datasets.FashionMNIST(root='./data', train=False, transform=transform)"
      ],
      "metadata": {
        "id": "QzBGBT8zMovh"
      },
      "execution_count": null,
      "outputs": []
    },
    {
      "cell_type": "code",
      "source": [
        "flip = trans.Compose([\n",
        "    RandomHorizontalFlip(1.0),\n",
        "    PILToTensor(),\n",
        "    ToDtype(torch.float32, scale=True),\n",
        "    Normalize((0.5,), (0.5,))\n",
        "])"
      ],
      "metadata": {
        "id": "3BS313GLMwmi"
      },
      "execution_count": null,
      "outputs": []
    },
    {
      "cell_type": "code",
      "source": [
        "flipped = datasets.FashionMNIST(root='./data', train=True, transform=flip)"
      ],
      "metadata": {
        "id": "s0qR8Fe9NYJP"
      },
      "execution_count": null,
      "outputs": []
    },
    {
      "cell_type": "code",
      "source": [
        "combo = ConcatDataset([train, flipped])"
      ],
      "metadata": {
        "id": "jluQw2Z3N6lB"
      },
      "execution_count": null,
      "outputs": []
    },
    {
      "cell_type": "code",
      "source": [
        "plt.figure(figsize=(15,2))\n",
        "plt.suptitle(\"Original\")\n",
        "\n",
        "for i in range(10):\n",
        "    plt.subplot(1, 10, i + 1)\n",
        "    plt.imshow(train[i][0].permute(1, 2, 0) * 0.5 + 0.5)\n",
        "    plt.xticks([])\n",
        "    plt.yticks([])\n",
        "\n",
        "\n",
        "plt.figure(figsize=(15,2))\n",
        "plt.suptitle(\"Flipped\")\n",
        "\n",
        "for i in range(10):\n",
        "    plt.subplot(1, 10, i + 1)\n",
        "    plt.imshow(flipped[i][0].permute(1, 2, 0) * 0.5 + 0.5)\n",
        "    plt.xticks([])\n",
        "    plt.yticks([])\n",
        "\n",
        "\n",
        "plt.show()"
      ],
      "metadata": {
        "colab": {
          "base_uri": "https://localhost:8080/",
          "height": 328
        },
        "id": "KwzdVzpLNsF1",
        "outputId": "78ed8946-4e99-4e59-87de-df1d402a054a"
      },
      "execution_count": null,
      "outputs": [
        {
          "output_type": "display_data",
          "data": {
            "text/plain": [
              "<Figure size 1500x200 with 10 Axes>"
            ],
            "image/png": "[encoded data removed]"
          },
          "metadata": {}
        },
        {
          "output_type": "display_data",
          "data": {
            "text/plain": [
              "<Figure size 1500x200 with 10 Axes>"
            ],
            "image/png": "[encoded data removed]"
          },
          "metadata": {}
        }
      ]
    },
    {
      "cell_type": "code",
      "source": [
        "train_set, valid = random_split(train, (0.95, 0.05))"
      ],
      "metadata": {
        "id": "Lf_yg8A5Mqlk"
      },
      "execution_count": null,
      "outputs": []
    },
    {
      "cell_type": "code",
      "source": [
        "model = nn.Sequential(\n",
        "    nn.Conv2d(3, 16, 5),\n",
        "    nn.ReLU(),\n",
        "    nn.MaxPool2d(3, 3),\n",
        "    nn.Conv2d(16, 64, 5),\n",
        "    nn.ReLU(),\n",
        "    nn.MaxPool2d(4, 4),\n",
        "    nn.Flatten(start_dim=-3),\n",
        "    nn.Linear(in_features=64, out_features=1500),\n",
        "    nn.BatchNorm1d(1500),\n",
        "    nn.ReLU(),\n",
        "    nn.Dropout(p=0.2),\n",
        "    nn.Linear(in_features=1500, out_features=888),\n",
        "    nn.BatchNorm1d(888),\n",
        "    nn.Sigmoid(),\n",
        "    nn.Linear(in_features=888, out_features=100),\n",
        "    nn.BatchNorm1d(100),\n",
        "    nn.ReLU(),\n",
        "    nn.Dropout(p=0.2),\n",
        "    nn.Linear(in_features=100, out_features=10),\n",
        ")"
      ],
      "metadata": {
        "id": "aaUlNOJJMtRK"
      },
      "execution_count": null,
      "outputs": []
    },
    {
      "cell_type": "code",
      "source": [
        "summary(model, (3, 28, 28))"
      ],
      "metadata": {
        "colab": {
          "base_uri": "https://localhost:8080/"
        },
        "id": "mBMFoyJ_OpmB",
        "outputId": "bec2b5c7-abce-4f4c-8e17-28d31367d336"
      },
      "execution_count": null,
      "outputs": [
        {
          "output_type": "stream",
          "name": "stdout",
          "text": [
            "----------------------------------------------------------------\n",
            "        Layer (type)               Output Shape         Param #\n",
            "================================================================\n",
            "            Conv2d-1           [-1, 16, 24, 24]           1,216\n",
            "              ReLU-2           [-1, 16, 24, 24]               0\n",
            "         MaxPool2d-3             [-1, 16, 8, 8]               0\n",
            "            Conv2d-4             [-1, 64, 4, 4]          25,664\n",
            "              ReLU-5             [-1, 64, 4, 4]               0\n",
            "         MaxPool2d-6             [-1, 64, 1, 1]               0\n",
            "           Flatten-7                   [-1, 64]               0\n",
            "            Linear-8                 [-1, 1500]          97,500\n",
            "       BatchNorm1d-9                 [-1, 1500]           3,000\n",
            "             ReLU-10                 [-1, 1500]               0\n",
            "          Dropout-11                 [-1, 1500]               0\n",
            "           Linear-12                  [-1, 888]       1,332,888\n",
            "      BatchNorm1d-13                  [-1, 888]           1,776\n",
            "          Sigmoid-14                  [-1, 888]               0\n",
            "           Linear-15                  [-1, 100]          88,900\n",
            "      BatchNorm1d-16                  [-1, 100]             200\n",
            "             ReLU-17                  [-1, 100]               0\n",
            "          Dropout-18                  [-1, 100]               0\n",
            "           Linear-19                   [-1, 10]           1,010\n",
            "================================================================\n",
            "Total params: 1,552,154\n",
            "Trainable params: 1,552,154\n",
            "Non-trainable params: 0\n",
            "----------------------------------------------------------------\n",
            "Input size (MB): 0.01\n",
            "Forward/backward pass size (MB): 0.23\n",
            "Params size (MB): 5.92\n",
            "Estimated Total Size (MB): 6.16\n",
            "----------------------------------------------------------------\n"
          ]
        }
      ]
    },
    {
      "cell_type": "code",
      "source": [
        "loss = nn.CrossEntropyLoss()"
      ],
      "metadata": {
        "id": "gm46qKebOs7Z"
      },
      "execution_count": null,
      "outputs": []
    },
    {
      "cell_type": "code",
      "source": [
        "optimizer = optim.SGD(model.parameters(), lr=1e-3)"
      ],
      "metadata": {
        "id": "gLEevK8SOvXL"
      },
      "execution_count": null,
      "outputs": []
    },
    {
      "cell_type": "code",
      "source": [
        "def run(model, dataloader, loss_function, optimizer = None):\n",
        "  if optimizer == None:\n",
        "    model.eval()\n",
        "  else:\n",
        "    model.train()\n",
        "  total = 0\n",
        "  for x, y in dataloader:\n",
        "    pred = model(x)\n",
        "    loss = loss_function(pred, y)\n",
        "    total += loss.item()\n",
        "    if optimizer != None:\n",
        "      loss.backward()\n",
        "      optimizer.step()\n",
        "      optimizer.zero_grad()\n",
        "  return total / len(dataloader)"
      ],
      "metadata": {
        "id": "3mZSqn06OxKM"
      },
      "execution_count": null,
      "outputs": []
    },
    {
      "cell_type": "code",
      "source": [
        "from IPython.display import clear_output\n",
        "\n",
        "def show_losses(train_loss_hist, test_loss_hist):\n",
        "    clear_output()\n",
        "\n",
        "    plt.figure(figsize=(12,4))\n",
        "\n",
        "    plt.subplot(1, 2, 1)\n",
        "    plt.title('Train Loss')\n",
        "    plt.plot(np.arange(len(train_loss_hist)), train_loss_hist)\n",
        "    plt.yscale('log')\n",
        "    plt.grid()\n",
        "\n",
        "    plt.subplot(1, 2, 2)\n",
        "    plt.title('Test Loss')\n",
        "    plt.plot(np.arange(len(test_loss_hist)), test_loss_hist)\n",
        "    plt.yscale('log')\n",
        "    plt.grid()\n",
        "\n",
        "    plt.show()"
      ],
      "metadata": {
        "id": "oOvspzCPOysV"
      },
      "execution_count": null,
      "outputs": []
    },
    {
      "cell_type": "code",
      "source": [
        "Batch = 100\n",
        "Epochs = 100\n",
        "\n",
        "train_loader = DataLoader(train_set, batch_size=Batch)\n",
        "valid_loader = DataLoader(valid, batch_size=Batch)\n",
        "\n",
        "train_loss_hist = []\n",
        "test_loss_hist = []\n",
        "prev_loss = 10 ** 9\n",
        "\n",
        "for i in range(Epochs):\n",
        "    train_loss = run(model, train_loader, loss, optimizer)\n",
        "    train_loss_hist.append(train_loss)\n",
        "    test_loss = run(model, valid_loader, loss)\n",
        "    test_loss_hist.append(test_loss)\n",
        "    if i % 1 == 0:\n",
        "        show_losses(train_loss_hist, test_loss_hist)\n",
        "    if prev_loss < test_loss:\n",
        "      print(\"Best Epochs: \", i - 1)\n",
        "      break\n",
        "    else:\n",
        "      prev_loss = test_loss"
      ],
      "metadata": {
        "colab": {
          "base_uri": "https://localhost:8080/",
          "height": 408
        },
        "id": "ABv0QHdNO0Zu",
        "outputId": "1de24b54-2b3e-4c73-ac5c-ea979a047f58"
      },
      "execution_count": null,
      "outputs": [
        {
          "output_type": "display_data",
          "data": {
            "text/plain": [
              "<Figure size 1200x400 with 2 Axes>"
            ],
            "image/png": "[encoded data removed]"
          },
          "metadata": {}
        },
        {
          "output_type": "stream",
          "name": "stdout",
          "text": [
            "Best Epochs:  30\n"
          ]
        }
      ]
    },
    {
      "cell_type": "code",
      "source": [
        "test_loader = DataLoader(test, batch_size=Batch)"
      ],
      "metadata": {
        "id": "8Ibp4wqeO2xH"
      },
      "execution_count": null,
      "outputs": []
    },
    {
      "cell_type": "code",
      "source": [
        "test_loss = run(model, test_loader, loss)\n",
        "test_loss"
      ],
      "metadata": {
        "colab": {
          "base_uri": "https://localhost:8080/"
        },
        "id": "hBviWI7jO5Ai",
        "outputId": "1dec92f5-b1cf-4d7d-b12f-fed9639bbc57"
      },
      "execution_count": null,
      "outputs": [
        {
          "output_type": "execute_result",
          "data": {
            "text/plain": [
              "0.3354355102777481"
            ]
          },
          "metadata": {},
          "execution_count": 19
        }
      ]
    },
    {
      "cell_type": "code",
      "source": [
        "def accuracy(model, dataloader, loss_function, optimizer=None):\n",
        "    if optimizer == None:\n",
        "        model.eval()\n",
        "    else:\n",
        "        model.train()\n",
        "\n",
        "    cnt = 0\n",
        "    all = 0\n",
        "\n",
        "    for X, y in dataloader:\n",
        "        pred = model(X)\n",
        "        for i in range(len(y)):\n",
        "          x1 = -10 ** 9\n",
        "          num = -1\n",
        "          for j in range(len(pred[i])):\n",
        "            if pred[i][j] > x1:\n",
        "              x1 = pred[i][j]\n",
        "              num = j\n",
        "          y1 = y[i]\n",
        "          if num == y1:\n",
        "            cnt+=1\n",
        "          all+=1\n",
        "\n",
        "    accuracy = cnt / all\n",
        "    return accuracy"
      ],
      "metadata": {
        "id": "cc006TVSO6xH"
      },
      "execution_count": null,
      "outputs": []
    },
    {
      "cell_type": "code",
      "source": [
        "acc = accuracy(model, test_loader, loss)\n",
        "acc"
      ],
      "metadata": {
        "colab": {
          "base_uri": "https://localhost:8080/"
        },
        "id": "45al-N1WO8sS",
        "outputId": "c7649c3e-550f-42c4-afaf-cf0ea8ef0c68"
      },
      "execution_count": null,
      "outputs": [
        {
          "output_type": "execute_result",
          "data": {
            "text/plain": [
              "0.8804"
            ]
          },
          "metadata": {},
          "execution_count": 21
        }
      ]
    },
    {
      "cell_type": "code",
      "source": [
        "from sklearn.metrics import precision_score, recall_score"
      ],
      "metadata": {
        "id": "_xD8iIvfO_z2"
      },
      "execution_count": null,
      "outputs": []
    },
    {
      "cell_type": "code",
      "source": [
        "def prep_metrics(model, dataloader):\n",
        "  model.eval()\n",
        "  true = []\n",
        "  pred = []\n",
        "\n",
        "  for x, y in dataloader:\n",
        "    pred_y = model(x)\n",
        "    _, predicted = torch.max(pred_y.data, 1)\n",
        "    true.extend(y.cpu().numpy())\n",
        "    pred.extend(predicted.cpu().numpy())\n",
        "  return precision_score(true, pred, average='weighted'), recall_score(true, pred, average='weighted')"
      ],
      "metadata": {
        "id": "dXu2VD62PBmE"
      },
      "execution_count": null,
      "outputs": []
    },
    {
      "cell_type": "code",
      "source": [
        "precision, recall = prep_metrics(model, test_loader)"
      ],
      "metadata": {
        "id": "Jfqivm4ePFbd"
      },
      "execution_count": null,
      "outputs": []
    },
    {
      "cell_type": "code",
      "source": [
        "precision"
      ],
      "metadata": {
        "colab": {
          "base_uri": "https://localhost:8080/"
        },
        "id": "6-Y74fJQPXkj",
        "outputId": "87b7ada1-2092-4e87-ba31-86bbfb421ad7"
      },
      "execution_count": null,
      "outputs": [
        {
          "output_type": "execute_result",
          "data": {
            "text/plain": [
              "0.8803938446564278"
            ]
          },
          "metadata": {},
          "execution_count": 25
        }
      ]
    },
    {
      "cell_type": "code",
      "source": [
        "recall"
      ],
      "metadata": {
        "colab": {
          "base_uri": "https://localhost:8080/"
        },
        "id": "ddUjo0VWPZII",
        "outputId": "442f4ade-1241-4d2d-a8e1-d5e8e513e2e9"
      },
      "execution_count": null,
      "outputs": [
        {
          "output_type": "execute_result",
          "data": {
            "text/plain": [
              "0.8804"
            ]
          },
          "metadata": {},
          "execution_count": 26
        }
      ]
    },
    {
      "cell_type": "code",
      "source": [
        "(2 * precision * recall) / (precision + recall)"
      ],
      "metadata": {
        "colab": {
          "base_uri": "https://localhost:8080/"
        },
        "id": "oGNLxj22Paje",
        "outputId": "185e4677-3681-4150-d007-950324aa7ed8"
      },
      "execution_count": null,
      "outputs": [
        {
          "output_type": "execute_result",
          "data": {
            "text/plain": [
              "0.880396922317455"
            ]
          },
          "metadata": {},
          "execution_count": 27
        }
      ]
    },
    {
      "cell_type": "markdown",
      "source": [
        "ВЫВОД"
      ],
      "metadata": {
        "id": "i6aSV3lwPclV"
      }
    },
    {
      "cell_type": "markdown",
      "source": [
        "Модель обучалась гороздо дольше, так как было намного больше данных. Однако, я ожидал, что метрики улучшатся, так как данных больше, но они наоборот ухудшились, скорее всего стоит как-то по-другому подходить к аугментации данных. В следующем задании, не буду использовать эту модель, сейчас она не оптимальна."
      ],
      "metadata": {
        "id": "io1R2-qoPeSg"
      }
    }
  ]
}